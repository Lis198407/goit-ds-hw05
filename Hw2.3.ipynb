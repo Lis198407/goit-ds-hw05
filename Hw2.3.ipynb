{
 "cells": [
  {
   "cell_type": "markdown",
   "metadata": {},
   "source": [
    "Прочитайте csv файл (використовуйте функцію read_csv)\n",
    "Виведіть перші п'ять рядків (використовується функція head)\n",
    "Виведіть розміри датасету (використовуйте атрибут shape)\n",
    "Відповідь: Про скільки книг зберігає дані датасет?"
   ]
  },
  {
   "cell_type": "code",
   "execution_count": 162,
   "metadata": {},
   "outputs": [
    {
     "name": "stdout",
     "output_type": "stream",
     "text": [
      "                                                Name                    Author  User Rating  Reviews  Price  Year        Genre\n",
      "0                      10-Day Green Smoothie Cleanse                  JJ Smith          4.7    17350      8  2016  Non Fiction\n",
      "1                                  11/22/63: A Novel              Stephen King          4.6     2052     22  2011      Fiction\n",
      "2            12 Rules for Life: An Antidote to Chaos        Jordan B. Peterson          4.7    18979     15  2018  Non Fiction\n",
      "3                             1984 (Signet Classics)             George Orwell          4.7    21424      6  2017      Fiction\n",
      "4  5,000 Awesome Facts (About Everything!) (Natio...  National Geographic Kids          4.8     7665     12  2019  Non Fiction\n",
      "(550, 7)\n"
     ]
    }
   ],
   "source": [
    "import pandas as pd\n",
    "books = pd.read_csv('bestsellers with categories.csv')\n",
    "\n",
    "print(books.head())\n",
    "print(books.shape)\n",
    "#Про скільки книг зберігає дані датасет? -549 книг"
   ]
  },
  {
   "cell_type": "markdown",
   "metadata": {},
   "source": [
    "Первинне дослідження даних\n",
    "\n",
    "Перевірте, чи у всіх рядків вистачає даних: виведіть кількість пропусків (na) у кожному зі стовпців (використовуйте функції isna та sum)\n",
    "Відповідь: Чи є в якихось змінних пропуски? (Так / ні)\n",
    "Перевірте, які є унікальні значення в колонці genre (використовуйте функцію unique)\n",
    "Відповідь: Які є унікальні жанри?\n",
    "Тепер подивіться на розподіл цін: побудуйте діаграму (використовуйте kind='hist')\n",
    "Визначте, яка ціна у нас максимальна, мінімальна, середня, медіанна (використовуйте функції max, min, mean, median)\n",
    "Відповідь: Максимальна ціна?\n",
    "Відповідь: Мінімальна ціна?\n",
    "Відповідь: Середня ціна?\n",
    "Відповідь: Медіанна ціна?"
   ]
  },
  {
   "cell_type": "code",
   "execution_count": 163,
   "metadata": {},
   "outputs": [
    {
     "name": "stdout",
     "output_type": "stream",
     "text": [
      "\n",
      "Count of missing values in each column:\n",
      "name           0\n",
      "author         0\n",
      "user_rating    0\n",
      "reviews        0\n",
      "price          0\n",
      "year           0\n",
      "genre          0\n",
      "dtype: int64\n",
      "['Non Fiction' 'Fiction']\n"
     ]
    },
    {
     "data": {
      "image/png": "[encoded data removed]",
      "text/plain": [
       "<Figure size 640x480 with 1 Axes>"
      ]
     },
     "metadata": {},
     "output_type": "display_data"
    },
    {
     "data": {
      "text/plain": [
       "min         0.0\n",
       "max       105.0\n",
       "mean       13.1\n",
       "median     11.0\n",
       "Name: price, dtype: float64"
      ]
     },
     "execution_count": 163,
     "metadata": {},
     "output_type": "execute_result"
    }
   ],
   "source": [
    "import matplotlib.pyplot as plt\n",
    "\n",
    "books.columns = ['name', 'author', 'user_rating', 'reviews', 'price', 'year', 'genre']\n",
    "print(\"\\nCount of missing values in each column:\")\n",
    "print(books.isnull().sum())\n",
    "# пропусків не має\n",
    "\n",
    "print (books['genre'].unique())\n",
    "# жанри - 'Non Fiction' 'Fiction'\n",
    "\n",
    "plt.hist(books.price, bins=100,color='blue')\n",
    "plt.show()\n",
    "\n",
    "books.price.agg(['min','max','mean','median'])\n",
    "# Відповідь: Максимальна ціна? - 105\n",
    "# Відповідь: Мінімальна ціна? - 0\n",
    "# Відповідь: Середня ціна? - 13,1\n",
    "# Відповідь: Медіанна ціна? - 11\n",
    "\n"
   ]
  },
  {
   "cell_type": "markdown",
   "metadata": {},
   "source": [
    "Пошук та сортування даних\n",
    "​Відповідь: Який рейтинг у датасеті найвищий? Відповідь:\n",
    "Відповідь: Скільки книг мають такий рейтинг? Відповідь:\n",
    "Відповідь: Яка книга має найбільше відгуків? Відповідь:\n",
    "Відповідь: З тих книг, що потрапили до Топ-50 у 2015 році, яка книга найдорожча (можна використати проміжний датафрейм)? Відповідь:\n",
    "Відповідь: Скільки книг жанру Fiction потрапили до Топ-50 у 2010 році (використовуйте &)? Відповідь:\n",
    "Відповідь: Скільки книг з рейтингом 4.9 потрапило до рейтингу у 2010 та 2011 роках (використовуйте | або функцію isin)? Відповідь:\n",
    "І насамкінець, давайте відсортуємо за зростанням ціни всі книги, які потрапили до рейтингу в 2015 році і коштують дешевше за 8 доларів (використовуйте функцію sort_values).\n",
    "Відповідь: Яка книга остання у відсортованому списку? Відповідь:"
   ]
  },
  {
   "cell_type": "code",
   "execution_count": 164,
   "metadata": {},
   "outputs": [
    {
     "name": "stdout",
     "output_type": "stream",
     "text": [
      "books Qty with 4.9 rating is: 52\n",
      "\n",
      "Яка книга має найбільше відгуків?\n",
      "     reviews                     name       author\n",
      "534    87841  Where the Crawdads Sing  Delia Owens\n",
      "\n",
      "З тих книг, що потрапили до Топ-50 у 2015 році, яка книга найдорожча\n",
      "                             name           author  reviews  price\n",
      "174  Humans of New York : Stories  Brandon Stanton     2812     17\n",
      "\n",
      "Скільки книг жанру Fiction потрапили до Топ-50 у 2010 році\n",
      "Qty of fiction in Top 50 in 2010 is: 0\n",
      "\n",
      "Скільки книг з рейтингом 4.9 потрапило до рейтингу у 2010 та 2011 роках\n",
      "Qty of 4.9 rank in TOP-50 in 2010 and 2011 is: 1\n",
      "\n",
      "Відповідь: Яка книга остання у відсортованому списку?\n",
      "                         name              author  price  reviews  year  user_rating        genre\n",
      "151  Hamilton: The Revolution  Lin-Manuel Miranda     54     5867  2016          4.9  Non Fiction\n"
     ]
    }
   ],
   "source": [
    "pd.options.display.width=200\n",
    "\n",
    "books.user_rating.agg('max')\n",
    "# Відповідь: Який рейтинг у датасеті найвищий? Відповідь: - 4.9\n",
    "\n",
    "print(f\"books Qty with 4.9 rating is: {len(books[books['user_rating']==4.9])}\")\n",
    "# Відповідь: Скільки книг мають такий рейтинг? Відповідь: - 52\n",
    "\n",
    "print('\\nЯка книга має найбільше відгуків?')\n",
    "print(books[['reviews','name','author']].sort_values('reviews',ascending=False).head(1))\n",
    "# Відповідь: Яка книга має найбільше відгуків? Відповідь: - 87841\n",
    "\n",
    "print('\\nЗ тих книг, що потрапили до Топ-50 у 2015 році, яка книга найдорожча')\n",
    "top50 = books[['name','author','price','reviews','year','user_rating','genre']].sort_values('user_rating',ascending=False).head(50)\n",
    "print(top50[top50['year']==2015][['name','author','reviews','price']].sort_values('price',ascending=False).head(1))\n",
    "# Відповідь: З тих книг, що потрапили до Топ-50 у 2015 році, яка книга найдорожча (можна використати проміжний датафрейм)? Відповідь: - Publication Manual of the American Psychologic...\n",
    "\n",
    "print('\\nСкільки книг жанру Fiction потрапили до Топ-50 у 2010 році')\n",
    "print(f\"Qty of fiction in Top 50 in 2010 is: {len(top50[(top50['genre']=='Fiction') & (top50['year']==2010)])}\")\n",
    "# Відповідь: Скільки книг жанру Fiction потрапили до Топ-50 у 2010 році (використовуйте &)? Відповідь: - 0\n",
    "\n",
    "print('\\nСкільки книг з рейтингом 4.9 потрапило до рейтингу у 2010 та 2011 роках')\n",
    "print(f\"Qty of 4.9 rank in TOP-50 in 2010 and 2011 is: {len(top50[(top50['user_rating']==4.9) & (top50['year'].isin([2010,2011]))])}\")\n",
    "# Відповідь: Скільки книг з рейтингом 4.9 потрапило до рейтингу у 2010 та 2011 роках (використовуйте | або функцію isin)? Відповідь:\n",
    "\n",
    "print('\\nВідповідь: Яка книга остання у відсортованому списку?')\n",
    "print(top50[(top50['year']==2015)&top50['price']<8].sort_values('price',ascending=True).tail(1))"
   ]
  },
  {
   "cell_type": "markdown",
   "metadata": {},
   "source": [
    "Агрегування даних та з'єднання таблиць\n",
    "\n",
    "​\n",
    "\n",
    "Остання секція цього домашнього завдання включає просунутіші функції. Але не хвилюйтеся, pandas робить усі операції простими та зрозумілими.\n",
    "\n",
    "Для початку давайте подивимося на максимальну та мінімальну ціни для кожного з жанрів (використовуйте функції groupby та agg, для підрахунку мінімальних та максимальних значень використовуйте max та min). Не беріть усі стовпці, виберіть тільки потрібні вам\n",
    "Відповідь: Максимальна ціна для жанру Fiction: Відповідь\n",
    "Відповідь: Мінімальна ціна для жанру Fiction: Відповідь\n",
    "Відповідь: Максимальна ціна для жанру Non Fiction: Відповідь\n",
    "Відповідь: Мінімальна ціна для жанру Non Fiction: Відповідь\n",
    "Тепер створіть новий датафрейм, який вміщатиме кількість книг для кожного з авторів (використовуйте функції groupby та agg, для підрахунку кількості використовуйте count). Не беріть усі стовпці, виберете тільки потрібні\n",
    "Відповідь: Якої розмірності вийшла таблиця? Відповідь:\n",
    "Відповідь: Який автор має найбільше книг? Відповідь:\n",
    "Відповідь: Скільки книг цього автора? Відповідь:\n",
    "Тепер створіть другий датафрейм, який буде вміщати середній рейтинг для кожного автора (використовуйте функції groupby та agg, для підрахунку середнього значення використовуйте mean). Не беріть усі стовпці, виберете тільки потрібні\n",
    "Відповідь: У якого автора середній рейтинг мінімальний? Відповідь:\n",
    "Відповідь: Який у цього автора середній рейтинг? Відповідь:\n",
    "З'єднайте останні два датафрейми так, щоб для кожного автора було видно кількість книг та середній рейтинг (Використовуйте функцію concat з параметром axis=1). Збережіть результат у змінну\n",
    "Відсортуйте датафрейм за зростаючою кількістю книг та зростаючим рейтингом (використовуйте функцію sort_values)\n",
    "Відповідь: Який автор перший у списку?\n"
   ]
  },
  {
   "cell_type": "code",
   "execution_count": 165,
   "metadata": {},
   "outputs": [
    {
     "name": "stdout",
     "output_type": "stream",
     "text": [
      "         genre price                \n",
      "                 min  max       mean\n",
      "0      Fiction     0   82  10.850000\n",
      "1  Non Fiction     0  105  14.841935\n",
      "\n",
      "\n",
      "розмірність таблиці: (248, 2)\n",
      "\n",
      "\n",
      "автор з найбільшою кількістю книг:\n",
      "\n",
      "\n",
      "author        Jeff Kinney\n",
      "book_count             12\n",
      "Name: 120, dtype: object\n"
     ]
    }
   ],
   "source": [
    "# Для початку давайте подивимося на максимальну та мінімальну ціни для кожного з жанрів \n",
    "# (використовуйте функції groupby та agg, для підрахунку мінімальних та максимальних значень використовуйте max та min). \n",
    "print(books[['genre','price']].groupby('genre').agg(['min','max','mean']).reset_index())\n",
    "# Відповідь: Максимальна ціна для жанру Fiction: Відповідь - 82\n",
    "# Відповідь: Мінімальна ціна для жанру Fiction: Відповідь - 0\n",
    "# Відповідь: Максимальна ціна для жанру Non Fiction: Відповідь - 105\n",
    "# Відповідь: Мінімальна ціна для жанру Non Fiction: Відповідь - 0\n",
    "\n",
    "# Тепер створіть новий датафрейм, який вміщатиме кількість книг для кожного з авторів \n",
    "# (використовуйте функції groupby та agg, для підрахунку кількості використовуйте count). Не беріть усі стовпці, виберете тільки потрібні\n",
    "print('\\n')\n",
    "\n",
    "authors_count = books[['author','name']].groupby('author').agg({'name': 'count'}).reset_index()\n",
    "authors_count = authors_count.rename(columns={'name': 'book_count'})\n",
    "print(f'розмірність таблиці: {authors_count.shape}')\n",
    "print('\\n')\n",
    "print(f'автор з найбільшою кількістю книг:')\n",
    "print('\\n')\n",
    "print(authors_count.loc[authors_count['book_count'].idxmax()])\n",
    "# Відповідь: Якої розмірності вийшла таблиця? Відповідь: (248,1)\n",
    "# Відповідь: Який автор має найбільше книг? Відповідь: - Jeff Kinney\n",
    "# Відповідь: Скільки книг цього автора? Відповідь: - 12\n",
    "\n"
   ]
  },
  {
   "cell_type": "markdown",
   "metadata": {},
   "source": [
    "Тепер створіть другий датафрейм, який буде вміщати середній рейтинг для кожного автора \n",
    "(використовуйте функції groupby та agg, для підрахунку середнього значення використовуйте mean). Не беріть усі стовпці, виберете тільки потрібні\n",
    "\n",
    "Відповідь: У якого автора середній рейтинг мінімальний? Відповідь:\n",
    "Відповідь: Який у цього автора середній рейтинг? Відповідь:"
   ]
  },
  {
   "cell_type": "code",
   "execution_count": 166,
   "metadata": {},
   "outputs": [
    {
     "name": "stdout",
     "output_type": "stream",
     "text": [
      "author            Donna Tartt\n",
      "average_rating            3.9\n",
      "Name: 71, dtype: object\n"
     ]
    }
   ],
   "source": [
    "# books.columns = ['name', 'author', 'user_rating', 'reviews', 'price', 'year', 'genre']\n",
    "authors_rank = books[['author','user_rating']].groupby('author').agg({'user_rating': 'mean'}).reset_index()\n",
    "authors_rank = authors_rank.rename(columns={'user_rating': 'average_rating'})\n",
    "\n",
    "print(authors_rank.loc[authors_rank['average_rating'].idxmin()])\n",
    "# Відповідь: У якого автора середній рейтинг мінімальний? Відповідь: -Donna Tartt\n",
    "# Відповідь: Який у цього автора середній рейтинг? Відповідь: - 3.9\n"
   ]
  },
  {
   "cell_type": "markdown",
   "metadata": {},
   "source": [
    "З'єднайте останні два датафрейми так, щоб для кожного автора було видно кількість книг та середній рейтинг (Використовуйте функцію concat з параметром axis=1). Збережіть результат у змінну\n",
    "Відсортуйте датафрейм за зростаючою кількістю книг та зростаючим рейтингом (використовуйте функцію sort_values)\n",
    "Відповідь: Який автор перший у списку?\n"
   ]
  },
  {
   "cell_type": "code",
   "execution_count": 167,
   "metadata": {},
   "outputs": [
    {
     "data": {
      "text/html": [
       "<div>\n",
       "<style scoped>\n",
       "    .dataframe tbody tr th:only-of-type {\n",
       "        vertical-align: middle;\n",
       "    }\n",
       "\n",
       "    .dataframe tbody tr th {\n",
       "        vertical-align: top;\n",
       "    }\n",
       "\n",
       "    .dataframe thead th {\n",
       "        text-align: right;\n",
       "    }\n",
       "</style>\n",
       "<table border=\"1\" class=\"dataframe\">\n",
       "  <thead>\n",
       "    <tr style=\"text-align: right;\">\n",
       "      <th></th>\n",
       "      <th>author</th>\n",
       "      <th>book_count</th>\n",
       "      <th>average_rating</th>\n",
       "    </tr>\n",
       "  </thead>\n",
       "  <tbody>\n",
       "    <tr>\n",
       "      <th>171</th>\n",
       "      <td>Muriel Barbery</td>\n",
       "      <td>1</td>\n",
       "      <td>4.000000</td>\n",
       "    </tr>\n",
       "    <tr>\n",
       "      <th>43</th>\n",
       "      <td>Chris Cleave</td>\n",
       "      <td>1</td>\n",
       "      <td>4.100000</td>\n",
       "    </tr>\n",
       "    <tr>\n",
       "      <th>109</th>\n",
       "      <td>Ian K. Smith M.D.</td>\n",
       "      <td>1</td>\n",
       "      <td>4.100000</td>\n",
       "    </tr>\n",
       "    <tr>\n",
       "      <th>186</th>\n",
       "      <td>Pierre Dukan</td>\n",
       "      <td>1</td>\n",
       "      <td>4.100000</td>\n",
       "    </tr>\n",
       "    <tr>\n",
       "      <th>81</th>\n",
       "      <td>Elizabeth Strout</td>\n",
       "      <td>1</td>\n",
       "      <td>4.200000</td>\n",
       "    </tr>\n",
       "    <tr>\n",
       "      <th>...</th>\n",
       "      <td>...</td>\n",
       "      <td>...</td>\n",
       "      <td>...</td>\n",
       "    </tr>\n",
       "    <tr>\n",
       "      <th>11</th>\n",
       "      <td>American Psychological Association</td>\n",
       "      <td>10</td>\n",
       "      <td>4.500000</td>\n",
       "    </tr>\n",
       "    <tr>\n",
       "      <th>226</th>\n",
       "      <td>Suzanne Collins</td>\n",
       "      <td>11</td>\n",
       "      <td>4.663636</td>\n",
       "    </tr>\n",
       "    <tr>\n",
       "      <th>92</th>\n",
       "      <td>Gary Chapman</td>\n",
       "      <td>11</td>\n",
       "      <td>4.736364</td>\n",
       "    </tr>\n",
       "    <tr>\n",
       "      <th>197</th>\n",
       "      <td>Rick Riordan</td>\n",
       "      <td>11</td>\n",
       "      <td>4.772727</td>\n",
       "    </tr>\n",
       "    <tr>\n",
       "      <th>120</th>\n",
       "      <td>Jeff Kinney</td>\n",
       "      <td>12</td>\n",
       "      <td>4.800000</td>\n",
       "    </tr>\n",
       "  </tbody>\n",
       "</table>\n",
       "<p>248 rows × 3 columns</p>\n",
       "</div>"
      ],
      "text/plain": [
       "                                 author  book_count  average_rating\n",
       "171                      Muriel Barbery           1        4.000000\n",
       "43                         Chris Cleave           1        4.100000\n",
       "109                   Ian K. Smith M.D.           1        4.100000\n",
       "186                        Pierre Dukan           1        4.100000\n",
       "81                     Elizabeth Strout           1        4.200000\n",
       "..                                  ...         ...             ...\n",
       "11   American Psychological Association          10        4.500000\n",
       "226                     Suzanne Collins          11        4.663636\n",
       "92                         Gary Chapman          11        4.736364\n",
       "197                        Rick Riordan          11        4.772727\n",
       "120                         Jeff Kinney          12        4.800000\n",
       "\n",
       "[248 rows x 3 columns]"
      ]
     },
     "execution_count": 167,
     "metadata": {},
     "output_type": "execute_result"
    }
   ],
   "source": [
    "merge_authors = pd.concat([authors_count[['author','book_count']],authors_rank[['average_rating']]],axis=1,join = 'inner')\n",
    "merge_authors.sort_values(by=['book_count','average_rating'],ascending=[True,True])\n",
    "# Відповідь: Який автор перший у списку? - Muriel Barbery"
   ]
  }
 ],
 "metadata": {
  "kernelspec": {
   "display_name": "Python 3",
   "language": "python",
   "name": "python3"
  },
  "language_info": {
   "codemirror_mode": {
    "name": "ipython",
    "version": 3
   },
   "file_extension": ".py",
   "mimetype": "text/x-python",
   "name": "python",
   "nbconvert_exporter": "python",
   "pygments_lexer": "ipython3",
   "version": "3.12.2"
  }
 },
 "nbformat": 4,
 "nbformat_minor": 2
}
