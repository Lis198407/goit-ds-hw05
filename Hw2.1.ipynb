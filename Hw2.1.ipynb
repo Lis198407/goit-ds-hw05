{
 "cells": [
  {
   "cell_type": "markdown",
   "metadata": {},
   "source": [
    "\"\"\"\n",
    "Прочитайте дані за допомогою методу read_html з таблиці \"Коефіцієнт народжуваності в регіонах України (1950—2019)\" посилання\n",
    "Будьте уважні, значення в отриманій вами таблиці можуть відрізнятися від значень у таблиці за посиланням(див.документацію)\n",
    "\"\"\""
   ]
  },
  {
   "cell_type": "code",
   "execution_count": 169,
   "metadata": {},
   "outputs": [
    {
     "name": "stdout",
     "output_type": "stream",
     "text": [
      "Number of parsed tables:  26\n"
     ]
    }
   ],
   "source": [
    "import pandas as pd\n",
    "\n",
    "url = \"https://uk.wikipedia.org/wiki/%D0%9D%D0%B0%D1%81%D0%B5%D0%BB%D0%B5%D0%BD%D0%BD%D1%8F_%D0%A3%D0%BA%D1%80%D0%B0%D1%97%D0%BD%D0%B8\"\n",
    "tables_list = pd.read_html(url, attrs= {\"class\":\"wikitable collapsible collapsed\", \"style\":\"text-align: right\"}, thousands= '',decimal=',')\n",
    "print(\"Number of parsed tables: \", len(tables_list))\n",
    "table = tables_list[2]\n"
   ]
  },
  {
   "cell_type": "markdown",
   "metadata": {},
   "source": [
    "Вивести перші рядки таблиці за допомогою методу head"
   ]
  },
  {
   "cell_type": "code",
   "execution_count": 170,
   "metadata": {},
   "outputs": [
    {
     "name": "stdout",
     "output_type": "stream",
     "text": [
      "             Регіон  1950  1960  1970  1990  2000  2012  2014  2019\n",
      "0              Крим  23.0  20.6  16.0  13.0   7.3  12.6     —     —\n",
      "1         Вінницька  22.4  19.2  14.2  12.4   8.4  11.2  10.9   7.6\n",
      "2         Волинська  24.7  25.0  17.9  15.3  11.2  14.8  14.1  10.1\n",
      "3  Дніпропетровська  20.4  20.4  15.1  12.3   7.1  11.2  11.1   7.1\n",
      "4          Донецька  27.1  21.4  14.0  10.9   6.1   9.8   8.2     —\n"
     ]
    }
   ],
   "source": [
    "print(table.head())"
   ]
  },
  {
   "cell_type": "markdown",
   "metadata": {},
   "source": [
    "Визначте кількість рядків та стовпців у датафреймі (атрибут shape)"
   ]
  },
  {
   "cell_type": "code",
   "execution_count": 166,
   "metadata": {},
   "outputs": [
    {
     "name": "stdout",
     "output_type": "stream",
     "text": [
      "(28, 9)\n"
     ]
    }
   ],
   "source": [
    "print(table.shape)"
   ]
  },
  {
   "cell_type": "markdown",
   "metadata": {},
   "source": [
    "Замініть у таблиці значення \"—\" на значення NaN"
   ]
  },
  {
   "cell_type": "code",
   "execution_count": 171,
   "metadata": {},
   "outputs": [
    {
     "name": "stdout",
     "output_type": "stream",
     "text": [
      "               Регіон  1950  1960  1970  1990  2000  2012  2014  2019\n",
      "0                Крим  23.0  20.6  16.0  13.0   7.3  12.6   NaN   NaN\n",
      "1           Вінницька  22.4  19.2  14.2  12.4   8.4  11.2  10.9   7.6\n",
      "2           Волинська  24.7  25.0  17.9  15.3  11.2  14.8  14.1  10.1\n",
      "3    Дніпропетровська  20.4  20.4  15.1  12.3   7.1  11.2  11.1   7.1\n",
      "4            Донецька  27.1  21.4  14.0  10.9   6.1   9.8   8.2   NaN\n",
      "5         Житомирська  26.1  22.3  15.9  12.9   8.9  12.2  12.0   7.9\n",
      "6        Закарпатська  31.4  27.3  20.7  16.8  11.5  15.1  14.6  10.4\n",
      "7          Запорізька  21.9  19.7  15.0  12.4   7.1  10.6  10.6   6.8\n",
      "8   Івано-Франківська  24.3  24.8  18.2  15.5  10.3  12.4  12.2   8.8\n",
      "9            Київська  20.4  18.9  15.6  12.3   7.3  12.2  12.1   8.0\n",
      "10     Кіровоградська  21.6  17.1  14.5  12.6   7.9  11.0  10.8   6.8\n",
      "11          Луганська  26.2  23.5  14.4  11.6   6.2   9.6   5.1   NaN\n",
      "12          Львівська  23.4  24.0  17.1  14.0   9.1  11.9  11.9   8.7\n",
      "13       Миколаївська  21.1  19.4  15.5  13.7   8.0  11.5  11.2   7.1\n",
      "14            Одеська  24.1  19.2  14.8  12.6   8.0  12.7  12.3   8.8\n",
      "15         Полтавська  18.6  16.3  13.1  11.8   7.0   9.9  10.0   6.5\n",
      "16         Рівненська  26.9  26.7  19.3  15.8  11.8  15.9  14.8  10.7\n",
      "17            Сумська  21.6  18.4  13.2  11.5   7.0   9.7   9.2   6.0\n",
      "18      Тернопільська  21.3  21.6  15.7  14.2   9.2  11.3  10.9   7.6\n",
      "19         Харківська  19.7  17.3  14.0  11.4   6.8   9.9  10.1   6.8\n",
      "20         Херсонська  20.8  21.4  16.6  14.3   8.5  11.7  11.5   8.1\n",
      "21        Хмельницька  23.4  19.8  14.8  12.9   8.5  11.3  11.2   7.9\n",
      "22          Черкаська  20.5  17.9  14.4  12.3   7.5  10.0   9.8   6.4\n",
      "23        Чернівецька  24.7  21.8  17.0  14.8  10.1  12.8  12.9   9.2\n",
      "24       Чернігівська  22.0  18.3  12.7  10.8   6.9   9.4   9.0   6.1\n",
      "25               Київ   NaN  17.4  15.9  12.0   7.3  12.0  12.1  11.0\n",
      "26        Севастополь   NaN   NaN   NaN  12.5   7.0  12.0   NaN   NaN\n",
      "27            Україна  22.8  20.5  15.2  12.6   7.8  11.4  11.1   8.1\n"
     ]
    }
   ],
   "source": [
    "import numpy as np\n",
    "\n",
    "print(table.replace(\"—\",np.NaN))\n"
   ]
  },
  {
   "cell_type": "markdown",
   "metadata": {},
   "source": [
    "Визначте типи всіх стовпців за допомогою dataframe.dtypes"
   ]
  },
  {
   "cell_type": "code",
   "execution_count": 172,
   "metadata": {},
   "outputs": [
    {
     "name": "stdout",
     "output_type": "stream",
     "text": [
      "Регіон     object\n",
      "1950      float64\n",
      "1960      float64\n",
      "1970      float64\n",
      "1990      float64\n",
      "2000      float64\n",
      "2012      float64\n",
      "2014       object\n",
      "2019       object\n",
      "dtype: object\n"
     ]
    }
   ],
   "source": [
    "print(table.dtypes)"
   ]
  },
  {
   "cell_type": "markdown",
   "metadata": {},
   "source": [
    "Замініть типи нечислових колонок на числові. Підказка - це колонки, де знаходився символ \"—\""
   ]
  },
  {
   "cell_type": "code",
   "execution_count": 267,
   "metadata": {},
   "outputs": [
    {
     "name": "stdout",
     "output_type": "stream",
     "text": [
      "Регіон     object\n",
      "1950      float64\n",
      "1960      float64\n",
      "1970      float64\n",
      "1990      float64\n",
      "2000      float64\n",
      "2012      float64\n",
      "2014      float64\n",
      "2019      float64\n",
      "dtype: object\n"
     ]
    }
   ],
   "source": [
    "table_tmp = table.replace(\"—\",np.NaN)\n",
    "table_tmp['2014'] = table_tmp['2014'].astype(float)\n",
    "table_tmp['2019'] = table_tmp['2019'].astype(float)\n",
    "print(table_tmp.dtypes)"
   ]
  },
  {
   "cell_type": "markdown",
   "metadata": {},
   "source": [
    "Порахуйте, яка частка пропусків міститься в кожній колонці (використовуйте методи isnull та sum)"
   ]
  },
  {
   "cell_type": "code",
   "execution_count": 264,
   "metadata": {},
   "outputs": [
    {
     "data": {
      "text/plain": [
       "Регіон    0\n",
       "1950      2\n",
       "1960      1\n",
       "1970      1\n",
       "1990      0\n",
       "2000      0\n",
       "2012      0\n",
       "2014      2\n",
       "2019      4\n",
       "dtype: int64"
      ]
     },
     "execution_count": 264,
     "metadata": {},
     "output_type": "execute_result"
    }
   ],
   "source": [
    "table_tmp.isnull().sum()"
   ]
  },
  {
   "cell_type": "markdown",
   "metadata": {},
   "source": [
    "Видаліть з таблиці дані по всій країні, останній рядок таблиці"
   ]
  },
  {
   "cell_type": "code",
   "execution_count": 289,
   "metadata": {},
   "outputs": [
    {
     "name": "stdout",
     "output_type": "stream",
     "text": [
      "               Регіон  1950  1960  1970  1990  2000  2012  2014  2019\n",
      "0                Крим 23.00 20.60 16.00 13.00  7.30 12.60 11.14  8.02\n",
      "1           Вінницька 22.40 19.20 14.20 12.40  8.40 11.20 10.90  7.60\n",
      "2           Волинська 24.70 25.00 17.90 15.30 11.20 14.80 14.10 10.10\n",
      "3    Дніпропетровська 20.40 20.40 15.10 12.30  7.10 11.20 11.10  7.10\n",
      "4            Донецька 27.10 21.40 14.00 10.90  6.10  9.80  8.20  8.02\n",
      "5         Житомирська 26.10 22.30 15.90 12.90  8.90 12.20 12.00  7.90\n",
      "6        Закарпатська 31.40 27.30 20.70 16.80 11.50 15.10 14.60 10.40\n",
      "7          Запорізька 21.90 19.70 15.00 12.40  7.10 10.60 10.60  6.80\n",
      "8   Івано-Франківська 24.30 24.80 18.20 15.50 10.30 12.40 12.20  8.80\n",
      "9            Київська 20.40 18.90 15.60 12.30  7.30 12.20 12.10  8.00\n",
      "10     Кіровоградська 21.60 17.10 14.50 12.60  7.90 11.00 10.80  6.80\n",
      "11          Луганська 26.20 23.50 14.40 11.60  6.20  9.60  5.10  8.02\n",
      "12          Львівська 23.40 24.00 17.10 14.00  9.10 11.90 11.90  8.70\n",
      "13       Миколаївська 21.10 19.40 15.50 13.70  8.00 11.50 11.20  7.10\n",
      "14            Одеська 24.10 19.20 14.80 12.60  8.00 12.70 12.30  8.80\n",
      "15         Полтавська 18.60 16.30 13.10 11.80  7.00  9.90 10.00  6.50\n",
      "16         Рівненська 26.90 26.70 19.30 15.80 11.80 15.90 14.80 10.70\n",
      "17            Сумська 21.60 18.40 13.20 11.50  7.00  9.70  9.20  6.00\n",
      "18      Тернопільська 21.30 21.60 15.70 14.20  9.20 11.30 10.90  7.60\n",
      "19         Харківська 19.70 17.30 14.00 11.40  6.80  9.90 10.10  6.80\n",
      "20         Херсонська 20.80 21.40 16.60 14.30  8.50 11.70 11.50  8.10\n",
      "21        Хмельницька 23.40 19.80 14.80 12.90  8.50 11.30 11.20  7.90\n",
      "22          Черкаська 20.50 17.90 14.40 12.30  7.50 10.00  9.80  6.40\n",
      "23        Чернівецька 24.70 21.80 17.00 14.80 10.10 12.80 12.90  9.20\n",
      "24       Чернігівська 22.00 18.30 12.70 10.80  6.90  9.40  9.00  6.10\n",
      "25               Київ 23.09 17.40 15.90 12.00  7.30 12.00 12.10 11.00\n",
      "26        Севастополь 23.09 20.75 15.59 12.50  7.00 12.00 11.14  8.02\n"
     ]
    }
   ],
   "source": [
    "table_tmp = table_tmp.drop(table_tmp.shape[0]-1)\n",
    "print(table_tmp)"
   ]
  },
  {
   "cell_type": "markdown",
   "metadata": {},
   "source": [
    "Замініть відсутні дані в стовпцях середніми значеннями цих стовпців (метод fillna)"
   ]
  },
  {
   "cell_type": "code",
   "execution_count": 315,
   "metadata": {},
   "outputs": [
    {
     "name": "stdout",
     "output_type": "stream",
     "text": [
      "               Регіон  1950  1960  1970  1990  2000  2012  2014  2019\n",
      "0                Крим 23.00 20.60 16.00 13.00  7.30 12.60 11.14  8.02\n",
      "1           Вінницька 22.40 19.20 14.20 12.40  8.40 11.20 10.90  7.60\n",
      "2           Волинська 24.70 25.00 17.90 15.30 11.20 14.80 14.10 10.10\n",
      "3    Дніпропетровська 20.40 20.40 15.10 12.30  7.10 11.20 11.10  7.10\n",
      "4            Донецька 27.10 21.40 14.00 10.90  6.10  9.80  8.20  8.02\n",
      "5         Житомирська 26.10 22.30 15.90 12.90  8.90 12.20 12.00  7.90\n",
      "6        Закарпатська 31.40 27.30 20.70 16.80 11.50 15.10 14.60 10.40\n",
      "7          Запорізька 21.90 19.70 15.00 12.40  7.10 10.60 10.60  6.80\n",
      "8   Івано-Франківська 24.30 24.80 18.20 15.50 10.30 12.40 12.20  8.80\n",
      "9            Київська 20.40 18.90 15.60 12.30  7.30 12.20 12.10  8.00\n",
      "10     Кіровоградська 21.60 17.10 14.50 12.60  7.90 11.00 10.80  6.80\n",
      "11          Луганська 26.20 23.50 14.40 11.60  6.20  9.60  5.10  8.02\n",
      "12          Львівська 23.40 24.00 17.10 14.00  9.10 11.90 11.90  8.70\n",
      "13       Миколаївська 21.10 19.40 15.50 13.70  8.00 11.50 11.20  7.10\n",
      "14            Одеська 24.10 19.20 14.80 12.60  8.00 12.70 12.30  8.80\n",
      "15         Полтавська 18.60 16.30 13.10 11.80  7.00  9.90 10.00  6.50\n",
      "16         Рівненська 26.90 26.70 19.30 15.80 11.80 15.90 14.80 10.70\n",
      "17            Сумська 21.60 18.40 13.20 11.50  7.00  9.70  9.20  6.00\n",
      "18      Тернопільська 21.30 21.60 15.70 14.20  9.20 11.30 10.90  7.60\n",
      "19         Харківська 19.70 17.30 14.00 11.40  6.80  9.90 10.10  6.80\n",
      "20         Херсонська 20.80 21.40 16.60 14.30  8.50 11.70 11.50  8.10\n",
      "21        Хмельницька 23.40 19.80 14.80 12.90  8.50 11.30 11.20  7.90\n",
      "22          Черкаська 20.50 17.90 14.40 12.30  7.50 10.00  9.80  6.40\n",
      "23        Чернівецька 24.70 21.80 17.00 14.80 10.10 12.80 12.90  9.20\n",
      "24       Чернігівська 22.00 18.30 12.70 10.80  6.90  9.40  9.00  6.10\n",
      "25               Київ 23.09 17.40 15.90 12.00  7.30 12.00 12.10 11.00\n",
      "26        Севастополь 23.09 20.75 15.59 12.50  7.00 12.00 11.14  8.02\n"
     ]
    }
   ],
   "source": [
    "numeric_cols = table_tmp.select_dtypes(include=[np.number]).columns\n",
    "table_tmp[numeric_cols] = table_tmp[numeric_cols].fillna(table_tmp[numeric_cols].mean())\n",
    "pd.options.display.float_format = '{:.2f}'.format\n",
    "print(table_tmp)\n"
   ]
  },
  {
   "cell_type": "markdown",
   "metadata": {},
   "source": [
    "Отримайте список регіонів, де рівень народжуваності у 2019 році був вищим за середній по Україні"
   ]
  },
  {
   "cell_type": "code",
   "execution_count": 313,
   "metadata": {},
   "outputs": [
    {
     "data": {
      "text/html": [
       "<div>\n",
       "<style scoped>\n",
       "    .dataframe tbody tr th:only-of-type {\n",
       "        vertical-align: middle;\n",
       "    }\n",
       "\n",
       "    .dataframe tbody tr th {\n",
       "        vertical-align: top;\n",
       "    }\n",
       "\n",
       "    .dataframe thead th {\n",
       "        text-align: right;\n",
       "    }\n",
       "</style>\n",
       "<table border=\"1\" class=\"dataframe\">\n",
       "  <thead>\n",
       "    <tr style=\"text-align: right;\">\n",
       "      <th></th>\n",
       "      <th>Регіон</th>\n",
       "      <th>1950</th>\n",
       "      <th>1960</th>\n",
       "      <th>1970</th>\n",
       "      <th>1990</th>\n",
       "      <th>2000</th>\n",
       "      <th>2012</th>\n",
       "      <th>2014</th>\n",
       "      <th>2019</th>\n",
       "    </tr>\n",
       "  </thead>\n",
       "  <tbody>\n",
       "    <tr>\n",
       "      <th>0</th>\n",
       "      <td>Крим</td>\n",
       "      <td>23.00</td>\n",
       "      <td>20.60</td>\n",
       "      <td>16.00</td>\n",
       "      <td>13.00</td>\n",
       "      <td>7.30</td>\n",
       "      <td>12.60</td>\n",
       "      <td>11.14</td>\n",
       "      <td>8.02</td>\n",
       "    </tr>\n",
       "    <tr>\n",
       "      <th>2</th>\n",
       "      <td>Волинська</td>\n",
       "      <td>24.70</td>\n",
       "      <td>25.00</td>\n",
       "      <td>17.90</td>\n",
       "      <td>15.30</td>\n",
       "      <td>11.20</td>\n",
       "      <td>14.80</td>\n",
       "      <td>14.10</td>\n",
       "      <td>10.10</td>\n",
       "    </tr>\n",
       "    <tr>\n",
       "      <th>4</th>\n",
       "      <td>Донецька</td>\n",
       "      <td>27.10</td>\n",
       "      <td>21.40</td>\n",
       "      <td>14.00</td>\n",
       "      <td>10.90</td>\n",
       "      <td>6.10</td>\n",
       "      <td>9.80</td>\n",
       "      <td>8.20</td>\n",
       "      <td>8.02</td>\n",
       "    </tr>\n",
       "    <tr>\n",
       "      <th>6</th>\n",
       "      <td>Закарпатська</td>\n",
       "      <td>31.40</td>\n",
       "      <td>27.30</td>\n",
       "      <td>20.70</td>\n",
       "      <td>16.80</td>\n",
       "      <td>11.50</td>\n",
       "      <td>15.10</td>\n",
       "      <td>14.60</td>\n",
       "      <td>10.40</td>\n",
       "    </tr>\n",
       "    <tr>\n",
       "      <th>8</th>\n",
       "      <td>Івано-Франківська</td>\n",
       "      <td>24.30</td>\n",
       "      <td>24.80</td>\n",
       "      <td>18.20</td>\n",
       "      <td>15.50</td>\n",
       "      <td>10.30</td>\n",
       "      <td>12.40</td>\n",
       "      <td>12.20</td>\n",
       "      <td>8.80</td>\n",
       "    </tr>\n",
       "    <tr>\n",
       "      <th>11</th>\n",
       "      <td>Луганська</td>\n",
       "      <td>26.20</td>\n",
       "      <td>23.50</td>\n",
       "      <td>14.40</td>\n",
       "      <td>11.60</td>\n",
       "      <td>6.20</td>\n",
       "      <td>9.60</td>\n",
       "      <td>5.10</td>\n",
       "      <td>8.02</td>\n",
       "    </tr>\n",
       "    <tr>\n",
       "      <th>12</th>\n",
       "      <td>Львівська</td>\n",
       "      <td>23.40</td>\n",
       "      <td>24.00</td>\n",
       "      <td>17.10</td>\n",
       "      <td>14.00</td>\n",
       "      <td>9.10</td>\n",
       "      <td>11.90</td>\n",
       "      <td>11.90</td>\n",
       "      <td>8.70</td>\n",
       "    </tr>\n",
       "    <tr>\n",
       "      <th>14</th>\n",
       "      <td>Одеська</td>\n",
       "      <td>24.10</td>\n",
       "      <td>19.20</td>\n",
       "      <td>14.80</td>\n",
       "      <td>12.60</td>\n",
       "      <td>8.00</td>\n",
       "      <td>12.70</td>\n",
       "      <td>12.30</td>\n",
       "      <td>8.80</td>\n",
       "    </tr>\n",
       "    <tr>\n",
       "      <th>16</th>\n",
       "      <td>Рівненська</td>\n",
       "      <td>26.90</td>\n",
       "      <td>26.70</td>\n",
       "      <td>19.30</td>\n",
       "      <td>15.80</td>\n",
       "      <td>11.80</td>\n",
       "      <td>15.90</td>\n",
       "      <td>14.80</td>\n",
       "      <td>10.70</td>\n",
       "    </tr>\n",
       "    <tr>\n",
       "      <th>20</th>\n",
       "      <td>Херсонська</td>\n",
       "      <td>20.80</td>\n",
       "      <td>21.40</td>\n",
       "      <td>16.60</td>\n",
       "      <td>14.30</td>\n",
       "      <td>8.50</td>\n",
       "      <td>11.70</td>\n",
       "      <td>11.50</td>\n",
       "      <td>8.10</td>\n",
       "    </tr>\n",
       "    <tr>\n",
       "      <th>23</th>\n",
       "      <td>Чернівецька</td>\n",
       "      <td>24.70</td>\n",
       "      <td>21.80</td>\n",
       "      <td>17.00</td>\n",
       "      <td>14.80</td>\n",
       "      <td>10.10</td>\n",
       "      <td>12.80</td>\n",
       "      <td>12.90</td>\n",
       "      <td>9.20</td>\n",
       "    </tr>\n",
       "    <tr>\n",
       "      <th>25</th>\n",
       "      <td>Київ</td>\n",
       "      <td>23.09</td>\n",
       "      <td>17.40</td>\n",
       "      <td>15.90</td>\n",
       "      <td>12.00</td>\n",
       "      <td>7.30</td>\n",
       "      <td>12.00</td>\n",
       "      <td>12.10</td>\n",
       "      <td>11.00</td>\n",
       "    </tr>\n",
       "    <tr>\n",
       "      <th>26</th>\n",
       "      <td>Севастополь</td>\n",
       "      <td>23.09</td>\n",
       "      <td>20.75</td>\n",
       "      <td>15.59</td>\n",
       "      <td>12.50</td>\n",
       "      <td>7.00</td>\n",
       "      <td>12.00</td>\n",
       "      <td>11.14</td>\n",
       "      <td>8.02</td>\n",
       "    </tr>\n",
       "  </tbody>\n",
       "</table>\n",
       "</div>"
      ],
      "text/plain": [
       "               Регіон  1950  1960  1970  1990  2000  2012  2014  2019\n",
       "0                Крим 23.00 20.60 16.00 13.00  7.30 12.60 11.14  8.02\n",
       "2           Волинська 24.70 25.00 17.90 15.30 11.20 14.80 14.10 10.10\n",
       "4            Донецька 27.10 21.40 14.00 10.90  6.10  9.80  8.20  8.02\n",
       "6        Закарпатська 31.40 27.30 20.70 16.80 11.50 15.10 14.60 10.40\n",
       "8   Івано-Франківська 24.30 24.80 18.20 15.50 10.30 12.40 12.20  8.80\n",
       "11          Луганська 26.20 23.50 14.40 11.60  6.20  9.60  5.10  8.02\n",
       "12          Львівська 23.40 24.00 17.10 14.00  9.10 11.90 11.90  8.70\n",
       "14            Одеська 24.10 19.20 14.80 12.60  8.00 12.70 12.30  8.80\n",
       "16         Рівненська 26.90 26.70 19.30 15.80 11.80 15.90 14.80 10.70\n",
       "20         Херсонська 20.80 21.40 16.60 14.30  8.50 11.70 11.50  8.10\n",
       "23        Чернівецька 24.70 21.80 17.00 14.80 10.10 12.80 12.90  9.20\n",
       "25               Київ 23.09 17.40 15.90 12.00  7.30 12.00 12.10 11.00\n",
       "26        Севастополь 23.09 20.75 15.59 12.50  7.00 12.00 11.14  8.02"
      ]
     },
     "execution_count": 313,
     "metadata": {},
     "output_type": "execute_result"
    }
   ],
   "source": [
    "# для кейсу більше середнього в 2019\n",
    "table_tmp[table_tmp['2019']>table_tmp['2019'].mean()]\n",
    "# для кейсу більше середнього взагалі\n",
    "# table_tmp[table_tmp['2019']>table_tmp[numeric_cols].mean().mean()]\n",
    "\n"
   ]
  },
  {
   "cell_type": "markdown",
   "metadata": {},
   "source": [
    "У якому регіоні була найвища народжуваність у 2014 році?"
   ]
  },
  {
   "cell_type": "code",
   "execution_count": 306,
   "metadata": {},
   "outputs": [
    {
     "data": {
      "text/html": [
       "<div>\n",
       "<style scoped>\n",
       "    .dataframe tbody tr th:only-of-type {\n",
       "        vertical-align: middle;\n",
       "    }\n",
       "\n",
       "    .dataframe tbody tr th {\n",
       "        vertical-align: top;\n",
       "    }\n",
       "\n",
       "    .dataframe thead th {\n",
       "        text-align: right;\n",
       "    }\n",
       "</style>\n",
       "<table border=\"1\" class=\"dataframe\">\n",
       "  <thead>\n",
       "    <tr style=\"text-align: right;\">\n",
       "      <th></th>\n",
       "      <th>Регіон</th>\n",
       "      <th>1950</th>\n",
       "      <th>1960</th>\n",
       "      <th>1970</th>\n",
       "      <th>1990</th>\n",
       "      <th>2000</th>\n",
       "      <th>2012</th>\n",
       "      <th>2014</th>\n",
       "      <th>2019</th>\n",
       "    </tr>\n",
       "  </thead>\n",
       "  <tbody>\n",
       "    <tr>\n",
       "      <th>16</th>\n",
       "      <td>Рівненська</td>\n",
       "      <td>26.90</td>\n",
       "      <td>26.70</td>\n",
       "      <td>19.30</td>\n",
       "      <td>15.80</td>\n",
       "      <td>11.80</td>\n",
       "      <td>15.90</td>\n",
       "      <td>14.80</td>\n",
       "      <td>10.70</td>\n",
       "    </tr>\n",
       "  </tbody>\n",
       "</table>\n",
       "</div>"
      ],
      "text/plain": [
       "        Регіон  1950  1960  1970  1990  2000  2012  2014  2019\n",
       "16  Рівненська 26.90 26.70 19.30 15.80 11.80 15.90 14.80 10.70"
      ]
     },
     "execution_count": 306,
     "metadata": {},
     "output_type": "execute_result"
    }
   ],
   "source": [
    "table_tmp[table_tmp['2014']==table_tmp['2014'].max()]"
   ]
  },
  {
   "cell_type": "markdown",
   "metadata": {},
   "source": [
    "Побудуйте стовпчикову діаграму народжуваності по регіонах у 2019 році"
   ]
  },
  {
   "cell_type": "code",
   "execution_count": 364,
   "metadata": {},
   "outputs": [
    {
     "data": {
      "text/plain": [
       "Text(0.5, 1.0, 'Коефіцієнти 2019р')"
      ]
     },
     "execution_count": 364,
     "metadata": {},
     "output_type": "execute_result"
    },
    {
     "data": {
      "image/png": "[encoded data removed]",
      "text/plain": [
       "<Figure size 640x480 with 1 Axes>"
      ]
     },
     "metadata": {},
     "output_type": "display_data"
    }
   ],
   "source": [
    "import matplotlib.pyplot as plt\n",
    "from matplotlib.ticker import MultipleLocator\n",
    "table_tmp=table_tmp.sort_values(by=['2019'],ascending=False)\n",
    "regions = table_tmp['Регіон']\n",
    "birth_koef = table_tmp['2019']\n",
    "\n",
    "ax = plt.axes()\n",
    "ax.set_facecolor('White')   \n",
    "\n",
    "norm = plt.Normalize(min(birth_koef)*0.6, max(birth_koef))\n",
    "colors = plt.cm.Blues(norm(birth_koef))\n",
    "\n",
    "bar = plt.bar(regions,birth_koef, color = colors)\n",
    "plt.xticks(rotation=90)\n",
    "plt.gca().yaxis.set_major_locator(MultipleLocator(1))\n",
    "plt.ylim(5)\n",
    "plt.title(\"Коефіцієнти 2019р\")\n",
    "plt.show()\n",
    "\n",
    "\n"
   ]
  }
 ],
 "metadata": {
  "kernelspec": {
   "display_name": "Python 3",
   "language": "python",
   "name": "python3"
  },
  "language_info": {
   "codemirror_mode": {
    "name": "ipython",
    "version": 3
   },
   "file_extension": ".py",
   "mimetype": "text/x-python",
   "name": "python",
   "nbconvert_exporter": "python",
   "pygments_lexer": "ipython3",
   "version": "3.12.2"
  }
 },
 "nbformat": 4,
 "nbformat_minor": 2
}
